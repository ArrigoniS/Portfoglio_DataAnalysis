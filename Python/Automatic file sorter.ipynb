{
 "cells": [
  {
   "cell_type": "markdown",
   "id": "3533d73f",
   "metadata": {},
   "source": [
    "# Automatic file sorter"
   ]
  },
  {
   "cell_type": "markdown",
   "id": "610ddd80",
   "metadata": {},
   "source": [
    "Hi all, \n",
    "This simple script can order a folder for you.\n",
    "Please pay attention to tue rule for the name of the folder and the file type.\n",
    "\n",
    "I hope I might help you\n",
    "\n",
    "Cheers"
   ]
  },
  {
   "cell_type": "code",
   "execution_count": 49,
   "id": "0276d976",
   "metadata": {},
   "outputs": [],
   "source": [
    "import os, shutil #Let's Start"
   ]
  },
  {
   "cell_type": "markdown",
   "id": "b4de4e03",
   "metadata": {},
   "source": [
    "### Initialitation\n",
    "\n",
    "#### Please pay attention \n"
   ]
  },
  {
   "cell_type": "code",
   "execution_count": 66,
   "id": "4adab492",
   "metadata": {},
   "outputs": [
    {
     "name": "stdout",
     "output_type": "stream",
     "text": [
      "Insert the path of the folder that you want to order: C:\\Users\\User\\Documents\\Self-improve\\Programmazione\\Portfolio Tech\\Python\n"
     ]
    }
   ],
   "source": [
    "path = input(\"Insert the path of the folder that you want to order: \") "
   ]
  },
  {
   "cell_type": "code",
   "execution_count": 67,
   "id": "998d8414",
   "metadata": {},
   "outputs": [
    {
     "name": "stdout",
     "output_type": "stream",
     "text": [
      "C:\\Users\\User\\Documents\\Self-improve\\Programmazione\\Portfolio Tech\\Python\n",
      "Have you check the name? yes\n"
     ]
    }
   ],
   "source": [
    "print(path)\n",
    "Check = input(\"Have you check the name? \")"
   ]
  },
  {
   "cell_type": "markdown",
   "id": "f05a7436",
   "metadata": {},
   "source": [
    "#### Rule to create the folder name and the file type: \n",
    "1. Every name of a new folder must be without space\n",
    "2. Every new folder must be in the same order of the file name\n",
    "3. Remember in the file type include the dot"
   ]
  },
  {
   "cell_type": "code",
   "execution_count": 72,
   "id": "348486af",
   "metadata": {},
   "outputs": [
    {
     "ename": "KeyboardInterrupt",
     "evalue": "Interrupted by user",
     "output_type": "error",
     "traceback": [
      "\u001b[1;31m---------------------------------------------------------------------------\u001b[0m",
      "\u001b[1;31mKeyboardInterrupt\u001b[0m                         Traceback (most recent call last)",
      "\u001b[1;32m<ipython-input-72-b8dd581f33bc>\u001b[0m in \u001b[0;36m<module>\u001b[1;34m\u001b[0m\n\u001b[1;32m----> 1\u001b[1;33m \u001b[0mCreate_Folder\u001b[0m \u001b[1;33m=\u001b[0m \u001b[0minput\u001b[0m\u001b[1;33m(\u001b[0m\u001b[1;34m\"Insert the name of the folder that you want to create: \"\u001b[0m\u001b[1;33m)\u001b[0m\u001b[1;33m\u001b[0m\u001b[1;33m\u001b[0m\u001b[0m\n\u001b[0m\u001b[0;32m      2\u001b[0m \u001b[0mList_of_new_Folder\u001b[0m \u001b[1;33m=\u001b[0m \u001b[0mCreate_Folder\u001b[0m\u001b[1;33m.\u001b[0m\u001b[0msplit\u001b[0m\u001b[1;33m(\u001b[0m\u001b[1;33m)\u001b[0m\u001b[1;33m\u001b[0m\u001b[1;33m\u001b[0m\u001b[0m\n\u001b[0;32m      3\u001b[0m \u001b[1;33m\u001b[0m\u001b[0m\n\u001b[0;32m      4\u001b[0m \u001b[0mFile_type\u001b[0m \u001b[1;33m=\u001b[0m \u001b[0minput\u001b[0m\u001b[1;33m(\u001b[0m\u001b[1;34m\"Insert every file type that you want to order: \"\u001b[0m\u001b[1;33m)\u001b[0m\u001b[1;33m\u001b[0m\u001b[1;33m\u001b[0m\u001b[0m\n\u001b[0;32m      5\u001b[0m \u001b[0mList_of_file_type\u001b[0m \u001b[1;33m=\u001b[0m \u001b[0mFile_type\u001b[0m\u001b[1;33m.\u001b[0m\u001b[0msplit\u001b[0m\u001b[1;33m(\u001b[0m\u001b[1;33m)\u001b[0m\u001b[1;33m\u001b[0m\u001b[1;33m\u001b[0m\u001b[0m\n",
      "\u001b[1;32m~\\anaconda3\\lib\\site-packages\\ipykernel\\kernelbase.py\u001b[0m in \u001b[0;36mraw_input\u001b[1;34m(self, prompt)\u001b[0m\n\u001b[0;32m    858\u001b[0m                 \u001b[1;34m\"raw_input was called, but this frontend does not support input requests.\"\u001b[0m\u001b[1;33m\u001b[0m\u001b[1;33m\u001b[0m\u001b[0m\n\u001b[0;32m    859\u001b[0m             )\n\u001b[1;32m--> 860\u001b[1;33m         return self._input_request(str(prompt),\n\u001b[0m\u001b[0;32m    861\u001b[0m             \u001b[0mself\u001b[0m\u001b[1;33m.\u001b[0m\u001b[0m_parent_ident\u001b[0m\u001b[1;33m,\u001b[0m\u001b[1;33m\u001b[0m\u001b[1;33m\u001b[0m\u001b[0m\n\u001b[0;32m    862\u001b[0m             \u001b[0mself\u001b[0m\u001b[1;33m.\u001b[0m\u001b[0m_parent_header\u001b[0m\u001b[1;33m,\u001b[0m\u001b[1;33m\u001b[0m\u001b[1;33m\u001b[0m\u001b[0m\n",
      "\u001b[1;32m~\\anaconda3\\lib\\site-packages\\ipykernel\\kernelbase.py\u001b[0m in \u001b[0;36m_input_request\u001b[1;34m(self, prompt, ident, parent, password)\u001b[0m\n\u001b[0;32m    902\u001b[0m             \u001b[1;32mexcept\u001b[0m \u001b[0mKeyboardInterrupt\u001b[0m\u001b[1;33m:\u001b[0m\u001b[1;33m\u001b[0m\u001b[1;33m\u001b[0m\u001b[0m\n\u001b[0;32m    903\u001b[0m                 \u001b[1;31m# re-raise KeyboardInterrupt, to truncate traceback\u001b[0m\u001b[1;33m\u001b[0m\u001b[1;33m\u001b[0m\u001b[1;33m\u001b[0m\u001b[0m\n\u001b[1;32m--> 904\u001b[1;33m                 \u001b[1;32mraise\u001b[0m \u001b[0mKeyboardInterrupt\u001b[0m\u001b[1;33m(\u001b[0m\u001b[1;34m\"Interrupted by user\"\u001b[0m\u001b[1;33m)\u001b[0m \u001b[1;32mfrom\u001b[0m \u001b[1;32mNone\u001b[0m\u001b[1;33m\u001b[0m\u001b[1;33m\u001b[0m\u001b[0m\n\u001b[0m\u001b[0;32m    905\u001b[0m             \u001b[1;32mexcept\u001b[0m \u001b[0mException\u001b[0m \u001b[1;32mas\u001b[0m \u001b[0me\u001b[0m\u001b[1;33m:\u001b[0m\u001b[1;33m\u001b[0m\u001b[1;33m\u001b[0m\u001b[0m\n\u001b[0;32m    906\u001b[0m                 \u001b[0mself\u001b[0m\u001b[1;33m.\u001b[0m\u001b[0mlog\u001b[0m\u001b[1;33m.\u001b[0m\u001b[0mwarning\u001b[0m\u001b[1;33m(\u001b[0m\u001b[1;34m\"Invalid Message:\"\u001b[0m\u001b[1;33m,\u001b[0m \u001b[0mexc_info\u001b[0m\u001b[1;33m=\u001b[0m\u001b[1;32mTrue\u001b[0m\u001b[1;33m)\u001b[0m\u001b[1;33m\u001b[0m\u001b[1;33m\u001b[0m\u001b[0m\n",
      "\u001b[1;31mKeyboardInterrupt\u001b[0m: Interrupted by user"
     ]
    }
   ],
   "source": [
    "# First Folder\n",
    "Create_Folder = input(\"Insert the name of the folder that you want to create: \")\n",
    "List_of_new_Folder = Create_Folder.split()\n",
    "\n",
    "# Second File type\n",
    "\n",
    "File_type = input(\"Insert every file type that you want to order: \")\n",
    "List_of_file_type = File_type.split()\n"
   ]
  },
  {
   "cell_type": "markdown",
   "id": "8d38505d",
   "metadata": {},
   "source": [
    "# It's time for organize!!"
   ]
  },
  {
   "cell_type": "code",
   "execution_count": 73,
   "id": "3c5d1867",
   "metadata": {},
   "outputs": [],
   "source": [
    "# Create the folder\n",
    "\n",
    "for i in range(len(List_of_new_Folder)):\n",
    "    if not os.path.exists(path + '/' + List_of_new_Folder[i]):\n",
    "        os.makedirs(path + '/' + List_of_new_Folder[i])\n",
    "\n",
    "file_name = os.listdir(path)"
   ]
  },
  {
   "cell_type": "code",
   "execution_count": 70,
   "id": "53567eaa",
   "metadata": {},
   "outputs": [],
   "source": [
    "# Let's place every file in the right folder\n",
    "\n",
    "for file in file_name:\n",
    "    for case in List_of_file_type:\n",
    "        if case in file and not os.path.exists(path + '/' + List_of_new_Folder[List_of_file_type.index(case)]+ '/' + file):\n",
    "            shutil.move(path + '/' + file, path + '/' + List_of_new_Folder[List_of_file_type.index(case)])\n",
    "        elif os.path.exists(path + '/' + List_of_new_Folder[List_of_file_type.index(case)]+ '/' + file):\n",
    "            print('There is a dulicate, check it out: ' + file)\n",
    "            "
   ]
  }
 ],
 "metadata": {
  "kernelspec": {
   "display_name": "Python 3",
   "language": "python",
   "name": "python3"
  },
  "language_info": {
   "codemirror_mode": {
    "name": "ipython",
    "version": 3
   },
   "file_extension": ".py",
   "mimetype": "text/x-python",
   "name": "python",
   "nbconvert_exporter": "python",
   "pygments_lexer": "ipython3",
   "version": "3.8.8"
  }
 },
 "nbformat": 4,
 "nbformat_minor": 5
}
